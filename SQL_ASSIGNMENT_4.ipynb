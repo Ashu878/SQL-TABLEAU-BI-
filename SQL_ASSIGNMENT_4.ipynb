{
 "cells": [
  {
   "cell_type": "code",
   "execution_count": 2,
   "id": "1a07b048",
   "metadata": {},
   "outputs": [],
   "source": [
    "import mysql.connector as conn"
   ]
  },
  {
   "cell_type": "code",
   "execution_count": 7,
   "id": "0756cce6",
   "metadata": {},
   "outputs": [],
   "source": [
    "con = conn.connect(user = 'root',password = 'admin', host = 'localhost')"
   ]
  },
  {
   "cell_type": "code",
   "execution_count": 9,
   "id": "81c621b0",
   "metadata": {},
   "outputs": [],
   "source": [
    "cursor = con.cursor()"
   ]
  },
  {
   "cell_type": "code",
   "execution_count": 10,
   "id": "8b59d993",
   "metadata": {},
   "outputs": [],
   "source": [
    "cursor.execute('USE main')"
   ]
  },
  {
   "cell_type": "code",
   "execution_count": 13,
   "id": "45192a2c",
   "metadata": {},
   "outputs": [],
   "source": [
    "cursor.execute('SHOW TABLES')"
   ]
  },
  {
   "cell_type": "code",
   "execution_count": 14,
   "id": "f8c5e7b1",
   "metadata": {},
   "outputs": [
    {
     "data": {
      "text/plain": [
       "[('test',), ('worker_table',)]"
      ]
     },
     "execution_count": 14,
     "metadata": {},
     "output_type": "execute_result"
    }
   ],
   "source": [
    "cursor.fetchall()"
   ]
  },
  {
   "cell_type": "markdown",
   "id": "d5d5625c",
   "metadata": {},
   "source": [
    "# Q-1. Write an SQL query to print the FIRST_NAME from Worker table after replacing ‘a’ with 'A'.\n"
   ]
  },
  {
   "cell_type": "code",
   "execution_count": 27,
   "id": "8d47ce17",
   "metadata": {},
   "outputs": [],
   "source": [
    "cursor.execute(\"SELECT * FROM worker_table\")"
   ]
  },
  {
   "cell_type": "code",
   "execution_count": 28,
   "id": "d3314a18",
   "metadata": {
    "scrolled": false
   },
   "outputs": [
    {
     "data": {
      "text/plain": [
       "[(1, 'ASHU', 'a', 300.0),\n",
       " (2, 'SALONI', 'b', 150.0),\n",
       " (3, 'LATINO', 'b', 150.0),\n",
       " (4, 'JAR', 'c', 200.0)]"
      ]
     },
     "execution_count": 28,
     "metadata": {},
     "output_type": "execute_result"
    }
   ],
   "source": [
    "cursor.fetchall()"
   ]
  },
  {
   "cell_type": "code",
   "execution_count": 34,
   "id": "a53c8d52",
   "metadata": {},
   "outputs": [],
   "source": [
    "cursor.execute(\"SELECT REPLACE(first_name,'A','a') FROM WORKER_TABLE \")"
   ]
  },
  {
   "cell_type": "code",
   "execution_count": 35,
   "id": "51dc6577",
   "metadata": {},
   "outputs": [
    {
     "data": {
      "text/plain": [
       "[('aSHU',), ('SaLONI',), ('LaTINO',), ('JaR',)]"
      ]
     },
     "execution_count": 35,
     "metadata": {},
     "output_type": "execute_result"
    }
   ],
   "source": [
    "cursor.fetchall() #Reversing because original data in caps"
   ]
  },
  {
   "cell_type": "markdown",
   "id": "a91a654c",
   "metadata": {},
   "source": [
    "# Q-2. Write an SQL query to print all Worker details from the Worker table order by FIRST_NAME Ascending and DEPARTMENT Descending."
   ]
  },
  {
   "cell_type": "code",
   "execution_count": 41,
   "id": "925d54ee",
   "metadata": {},
   "outputs": [],
   "source": [
    "cursor.execute('SELECT * FROM WORKER_TABLE ORDER BY first_name ASC')"
   ]
  },
  {
   "cell_type": "code",
   "execution_count": 43,
   "id": "3ad9da64",
   "metadata": {},
   "outputs": [
    {
     "data": {
      "text/plain": [
       "[(1, 'ASHU', 'a', 300.0),\n",
       " (4, 'JAR', 'c', 200.0),\n",
       " (3, 'LATINO', 'b', 150.0),\n",
       " (2, 'SALONI', 'b', 150.0)]"
      ]
     },
     "execution_count": 43,
     "metadata": {},
     "output_type": "execute_result"
    }
   ],
   "source": [
    "cursor.fetchall()"
   ]
  },
  {
   "cell_type": "code",
   "execution_count": 47,
   "id": "10923980",
   "metadata": {},
   "outputs": [],
   "source": [
    "cursor.execute(\"SELECT first_name,DEPARTMENT FROM WORKER_TABLE ORDER BY first_name ASC, DEPARTMENT DESC\")"
   ]
  },
  {
   "cell_type": "code",
   "execution_count": 48,
   "id": "fb5e74b1",
   "metadata": {},
   "outputs": [
    {
     "data": {
      "text/plain": [
       "[('ASHU', 'a'), ('JAR', 'c'), ('LATINO', 'b'), ('SALONI', 'b')]"
      ]
     },
     "execution_count": 48,
     "metadata": {},
     "output_type": "execute_result"
    }
   ],
   "source": [
    "cursor.fetchall()"
   ]
  },
  {
   "cell_type": "markdown",
   "id": "6064353f",
   "metadata": {},
   "source": [
    "# Q-3. Write an SQL query to fetch the names of workers who earn the highest salary."
   ]
  },
  {
   "cell_type": "code",
   "execution_count": 52,
   "id": "9c3d07e1",
   "metadata": {},
   "outputs": [],
   "source": [
    "cursor.execute('SELECT first_name FROM worker_table ORDER BY SALARY DESC')"
   ]
  },
  {
   "cell_type": "code",
   "execution_count": 53,
   "id": "4c8d23be",
   "metadata": {},
   "outputs": [
    {
     "data": {
      "text/plain": [
       "[('ASHU',), ('JAR',), ('SALONI',), ('LATINO',)]"
      ]
     },
     "execution_count": 53,
     "metadata": {},
     "output_type": "execute_result"
    }
   ],
   "source": [
    "cursor.fetchall()"
   ]
  },
  {
   "cell_type": "code",
   "execution_count": null,
   "id": "b116af02",
   "metadata": {},
   "outputs": [],
   "source": []
  }
 ],
 "metadata": {
  "kernelspec": {
   "display_name": "Python 3 (ipykernel)",
   "language": "python",
   "name": "python3"
  },
  "language_info": {
   "codemirror_mode": {
    "name": "ipython",
    "version": 3
   },
   "file_extension": ".py",
   "mimetype": "text/x-python",
   "name": "python",
   "nbconvert_exporter": "python",
   "pygments_lexer": "ipython3",
   "version": "3.9.7"
  }
 },
 "nbformat": 4,
 "nbformat_minor": 5
}
