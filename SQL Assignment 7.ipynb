{
 "cells": [
  {
   "cell_type": "code",
   "execution_count": 1,
   "id": "4ca8c006",
   "metadata": {},
   "outputs": [],
   "source": [
    "import mysql.connector as DD"
   ]
  },
  {
   "cell_type": "code",
   "execution_count": 2,
   "id": "5da00be9",
   "metadata": {},
   "outputs": [],
   "source": [
    "mydb = DD.connect(host = \"localhost\",user = 'root', password = 'admin')"
   ]
  },
  {
   "cell_type": "code",
   "execution_count": 3,
   "id": "df8df955",
   "metadata": {},
   "outputs": [],
   "source": [
    "cursor = mydb.cursor()"
   ]
  },
  {
   "cell_type": "code",
   "execution_count": 4,
   "id": "86fb3ca3",
   "metadata": {},
   "outputs": [],
   "source": [
    "cursor.execute(\"USE Employee\")"
   ]
  },
  {
   "cell_type": "code",
   "execution_count": 5,
   "id": "2a5b883a",
   "metadata": {},
   "outputs": [],
   "source": [
    "cursor.execute(\"SHOW TABLES\")"
   ]
  },
  {
   "cell_type": "code",
   "execution_count": 6,
   "id": "f7989538",
   "metadata": {},
   "outputs": [
    {
     "data": {
      "text/plain": [
       "[('emp_data',)]"
      ]
     },
     "execution_count": 6,
     "metadata": {},
     "output_type": "execute_result"
    }
   ],
   "source": [
    "cursor.fetchall()"
   ]
  },
  {
   "cell_type": "code",
   "execution_count": 12,
   "id": "9f874fdb",
   "metadata": {},
   "outputs": [],
   "source": [
    "cursor.execute(\"SELECT * FROM emp_data\")"
   ]
  },
  {
   "cell_type": "code",
   "execution_count": 13,
   "id": "f49e410d",
   "metadata": {},
   "outputs": [
    {
     "data": {
      "text/plain": [
       "[(1, 'ASHU', 1000000, '2023-01-01'),\n",
       " (2, 'Rashmi', 100011, '2023-06-06'),\n",
       " (3, 'Akash', 10000, '2023-08-09')]"
      ]
     },
     "execution_count": 13,
     "metadata": {},
     "output_type": "execute_result"
    }
   ],
   "source": [
    "cursor.fetchall()"
   ]
  },
  {
   "cell_type": "code",
   "execution_count": 9,
   "id": "b855bd19",
   "metadata": {},
   "outputs": [],
   "source": [
    "cursor.execute(\"DESC emp_data\")"
   ]
  },
  {
   "cell_type": "code",
   "execution_count": 10,
   "id": "11037ef5",
   "metadata": {},
   "outputs": [
    {
     "data": {
      "text/plain": [
       "[('emp_id', b'int', 'NO', 'PRI', None, ''),\n",
       " ('NAME', b'varchar(30)', 'YES', '', None, ''),\n",
       " ('SALARY', b'int', 'YES', '', None, ''),\n",
       " ('joining_date', b'varchar(40)', 'YES', '', None, '')]"
      ]
     },
     "execution_count": 10,
     "metadata": {},
     "output_type": "execute_result"
    }
   ],
   "source": [
    "cursor.fetchall()"
   ]
  },
  {
   "cell_type": "code",
   "execution_count": 11,
   "id": "6238071f",
   "metadata": {},
   "outputs": [],
   "source": [
    "cursor.execute(\"INSERT INTO emp_data VALUES (1,'ASHU',1000000,'2023-01-01'),(2,'Rashmi',100011,'2023-06-06'),(3,'Akash',10000,'2023-08-09')\")"
   ]
  },
  {
   "cell_type": "markdown",
   "id": "11737602",
   "metadata": {},
   "source": [
    "# Q-13. Write an SQL query to show only odd rows from a table."
   ]
  },
  {
   "cell_type": "code",
   "execution_count": 14,
   "id": "6e2fe5fa",
   "metadata": {},
   "outputs": [],
   "source": [
    "cursor.execute(\"SELECT * FROM emp_data WHERE  emp_id % 2 != 0\")"
   ]
  },
  {
   "cell_type": "code",
   "execution_count": 15,
   "id": "9f32b8a0",
   "metadata": {},
   "outputs": [
    {
     "data": {
      "text/plain": [
       "[(1, 'ASHU', 1000000, '2023-01-01'), (3, 'Akash', 10000, '2023-08-09')]"
      ]
     },
     "execution_count": 15,
     "metadata": {},
     "output_type": "execute_result"
    }
   ],
   "source": [
    "cursor.fetchall()"
   ]
  },
  {
   "cell_type": "markdown",
   "id": "937e646c",
   "metadata": {},
   "source": [
    "# Q-14. Write an SQL query to clone a new table from another table."
   ]
  },
  {
   "cell_type": "code",
   "execution_count": 18,
   "id": "2efd01b6",
   "metadata": {},
   "outputs": [],
   "source": [
    "cursor.execute(\"CREATE TABLE new_s AS SELECT * FROM emp_data\")"
   ]
  },
  {
   "cell_type": "code",
   "execution_count": 20,
   "id": "589c8820",
   "metadata": {},
   "outputs": [],
   "source": [
    "cursor.execute(\"SELECT * FROM new_s\")"
   ]
  },
  {
   "cell_type": "code",
   "execution_count": 21,
   "id": "5f389302",
   "metadata": {},
   "outputs": [
    {
     "data": {
      "text/plain": [
       "[(1, 'ASHU', 1000000, '2023-01-01'),\n",
       " (2, 'Rashmi', 100011, '2023-06-06'),\n",
       " (3, 'Akash', 10000, '2023-08-09')]"
      ]
     },
     "execution_count": 21,
     "metadata": {},
     "output_type": "execute_result"
    }
   ],
   "source": [
    "cursor.fetchall()"
   ]
  },
  {
   "cell_type": "code",
   "execution_count": 22,
   "id": "9b2c9b67",
   "metadata": {},
   "outputs": [],
   "source": [
    "cursor.execute(\"CREATE TABLE xy LIKE new_s\")"
   ]
  },
  {
   "cell_type": "code",
   "execution_count": 23,
   "id": "dc833bf3",
   "metadata": {},
   "outputs": [],
   "source": [
    "cursor.execute(\"INSERT INTO xy SELECT * FROM new_s\")"
   ]
  },
  {
   "cell_type": "code",
   "execution_count": 24,
   "id": "c8c880f7",
   "metadata": {},
   "outputs": [],
   "source": [
    "cursor.execute(\"SELECT * FROM xy\")"
   ]
  },
  {
   "cell_type": "code",
   "execution_count": 25,
   "id": "d11a1f1b",
   "metadata": {},
   "outputs": [
    {
     "data": {
      "text/plain": [
       "[(1, 'ASHU', 1000000, '2023-01-01'),\n",
       " (2, 'Rashmi', 100011, '2023-06-06'),\n",
       " (3, 'Akash', 10000, '2023-08-09')]"
      ]
     },
     "execution_count": 25,
     "metadata": {},
     "output_type": "execute_result"
    }
   ],
   "source": [
    "cursor.fetchall()"
   ]
  },
  {
   "cell_type": "code",
   "execution_count": null,
   "id": "6c047224",
   "metadata": {},
   "outputs": [],
   "source": []
  }
 ],
 "metadata": {
  "kernelspec": {
   "display_name": "Python 3 (ipykernel)",
   "language": "python",
   "name": "python3"
  },
  "language_info": {
   "codemirror_mode": {
    "name": "ipython",
    "version": 3
   },
   "file_extension": ".py",
   "mimetype": "text/x-python",
   "name": "python",
   "nbconvert_exporter": "python",
   "pygments_lexer": "ipython3",
   "version": "3.9.7"
  }
 },
 "nbformat": 4,
 "nbformat_minor": 5
}
