{
 "cells": [
  {
   "cell_type": "code",
   "execution_count": 3,
   "id": "f595aa1a",
   "metadata": {},
   "outputs": [],
   "source": [
    "import mysql.connector"
   ]
  },
  {
   "cell_type": "code",
   "execution_count": 8,
   "id": "c05ebfcf",
   "metadata": {},
   "outputs": [],
   "source": [
    "conn = mysql.connector.connect(user = 'root', password = 'admin',host = 'localhost')"
   ]
  },
  {
   "cell_type": "code",
   "execution_count": 9,
   "id": "e094ab14",
   "metadata": {},
   "outputs": [],
   "source": [
    "cursor = conn.cursor()"
   ]
  },
  {
   "cell_type": "code",
   "execution_count": 10,
   "id": "4d30cf98",
   "metadata": {},
   "outputs": [],
   "source": [
    "cursor.execute('SHOW DATABASES')"
   ]
  },
  {
   "cell_type": "code",
   "execution_count": 13,
   "id": "ce4ef053",
   "metadata": {},
   "outputs": [],
   "source": [
    "cursor.execute('USE main')"
   ]
  },
  {
   "cell_type": "code",
   "execution_count": 14,
   "id": "254260ba",
   "metadata": {},
   "outputs": [
    {
     "data": {
      "text/plain": [
       "[]"
      ]
     },
     "execution_count": 14,
     "metadata": {},
     "output_type": "execute_result"
    }
   ],
   "source": [
    "cursor.fetchall()"
   ]
  },
  {
   "cell_type": "code",
   "execution_count": 12,
   "id": "7e149edd",
   "metadata": {},
   "outputs": [],
   "source": [
    "#  (1, 'ASHU', 'CHANDRA', 6000000, 'ashu@.com', 2001)"
   ]
  },
  {
   "cell_type": "code",
   "execution_count": 21,
   "id": "7f28b775",
   "metadata": {},
   "outputs": [],
   "source": [
    "cursor.execute(\"CREATE TABLE WORKER_TABLE (id INT,first_name VARCHAR(30), DEPARTMENT VARCHAR(10), SALARY FLOAT(10,5))\")\n",
    "                "
   ]
  },
  {
   "cell_type": "code",
   "execution_count": 23,
   "id": "14925d03",
   "metadata": {},
   "outputs": [],
   "source": [
    "cursor.execute(\" INSERT INTO WORKER_TABLE VALUES (1,'ASHU','a',300) \")"
   ]
  },
  {
   "cell_type": "code",
   "execution_count": 24,
   "id": "be161a85",
   "metadata": {},
   "outputs": [],
   "source": [
    "cursor.execute(\" INSERT INTO WORKER_TABLE VALUES (2,'SALONI','b',150) \")"
   ]
  },
  {
   "cell_type": "code",
   "execution_count": 25,
   "id": "1fd1fcc1",
   "metadata": {},
   "outputs": [],
   "source": [
    "cursor.execute(\" INSERT INTO WORKER_TABLE VALUES (3,'LATINO    ','b',150) \")"
   ]
  },
  {
   "cell_type": "code",
   "execution_count": 26,
   "id": "4328d81a",
   "metadata": {},
   "outputs": [],
   "source": [
    "cursor.execute(\" INSERT INTO WORKER_TABLE VALUES (4,'JAR    ','c',200) \")"
   ]
  },
  {
   "cell_type": "code",
   "execution_count": 27,
   "id": "c5eaf70e",
   "metadata": {},
   "outputs": [
    {
     "data": {
      "text/plain": [
       "[]"
      ]
     },
     "execution_count": 27,
     "metadata": {},
     "output_type": "execute_result"
    }
   ],
   "source": [
    "cursor.fetchall()"
   ]
  },
  {
   "cell_type": "code",
   "execution_count": 28,
   "id": "10cd04d0",
   "metadata": {},
   "outputs": [],
   "source": [
    "cursor.execute('SELECT * FROM WORKER_TABLE')"
   ]
  },
  {
   "cell_type": "code",
   "execution_count": 29,
   "id": "f5cefe8b",
   "metadata": {},
   "outputs": [
    {
     "data": {
      "text/plain": [
       "[(1, 'ASHU', 'a', 300.0),\n",
       " (2, 'SALONI', 'b', 150.0),\n",
       " (3, 'LATINO    ', 'b', 150.0),\n",
       " (4, 'JAR    ', 'c', 200.0)]"
      ]
     },
     "execution_count": 29,
     "metadata": {},
     "output_type": "execute_result"
    }
   ],
   "source": [
    "cursor.fetchall()"
   ]
  },
  {
   "cell_type": "markdown",
   "id": "74fab473",
   "metadata": {},
   "source": [
    "# Q-1. Write an SQL query to print the FIRST_NAME from Worker table after removing white spaces from the right side.\n"
   ]
  },
  {
   "cell_type": "code",
   "execution_count": 31,
   "id": "53abc968",
   "metadata": {},
   "outputs": [],
   "source": [
    "cursor.execute('UPDATE WORKER_TABLE SET first_name = RTRIM(first_name)')"
   ]
  },
  {
   "cell_type": "code",
   "execution_count": 32,
   "id": "c4f96f00",
   "metadata": {},
   "outputs": [],
   "source": [
    "cursor.execute('SELECT * FROM WORKER_TABLE')"
   ]
  },
  {
   "cell_type": "code",
   "execution_count": 34,
   "id": "6fc1c434",
   "metadata": {},
   "outputs": [
    {
     "data": {
      "text/plain": [
       "[(1, 'ASHU', 'a', 300.0),\n",
       " (2, 'SALONI', 'b', 150.0),\n",
       " (3, 'LATINO', 'b', 150.0),\n",
       " (4, 'JAR', 'c', 200.0)]"
      ]
     },
     "execution_count": 34,
     "metadata": {},
     "output_type": "execute_result"
    }
   ],
   "source": [
    "cursor.fetchall()"
   ]
  },
  {
   "cell_type": "markdown",
   "id": "762a7ce4",
   "metadata": {},
   "source": [
    "# Q-2. Write an SQL query that fetches the unique values of DEPARTMENT from Worker and print it's length"
   ]
  },
  {
   "cell_type": "code",
   "execution_count": 47,
   "id": "b41cd3cb",
   "metadata": {},
   "outputs": [],
   "source": [
    "cursor.execute('SELECT DISTINCT(DEPARTMENT),LENGTH(DEPARTMENT) FROM WORKER_TABLE')"
   ]
  },
  {
   "cell_type": "code",
   "execution_count": 48,
   "id": "796a1838",
   "metadata": {
    "scrolled": false
   },
   "outputs": [
    {
     "data": {
      "text/plain": [
       "[('a', 1), ('b', 1), ('c', 1)]"
      ]
     },
     "execution_count": 48,
     "metadata": {},
     "output_type": "execute_result"
    }
   ],
   "source": [
    "cursor.fetchall()"
   ]
  },
  {
   "cell_type": "markdown",
   "id": "b0268e5d",
   "metadata": {},
   "source": [
    "# Q-3. Write an SQL query to fetch nth max salaries from a table."
   ]
  },
  {
   "cell_type": "code",
   "execution_count": 69,
   "id": "7ed0f505",
   "metadata": {},
   "outputs": [],
   "source": [
    "cursor.execute('SELECT * FROM WORKER_TABLE ORDER BY SALARY DESC LIMIT 3')"
   ]
  },
  {
   "cell_type": "code",
   "execution_count": 70,
   "id": "4c8e66bf",
   "metadata": {},
   "outputs": [
    {
     "data": {
      "text/plain": [
       "[(1, 'ASHU', 'a', 1000.0), (4, 'JAR', 'c', 200.0), (2, 'SALONI', 'b', 150.0)]"
      ]
     },
     "execution_count": 70,
     "metadata": {},
     "output_type": "execute_result"
    }
   ],
   "source": [
    "cursor.fetchall()"
   ]
  },
  {
   "cell_type": "code",
   "execution_count": null,
   "id": "094b11c6",
   "metadata": {},
   "outputs": [],
   "source": []
  }
 ],
 "metadata": {
  "kernelspec": {
   "display_name": "Python 3 (ipykernel)",
   "language": "python",
   "name": "python3"
  },
  "language_info": {
   "codemirror_mode": {
    "name": "ipython",
    "version": 3
   },
   "file_extension": ".py",
   "mimetype": "text/x-python",
   "name": "python",
   "nbconvert_exporter": "python",
   "pygments_lexer": "ipython3",
   "version": "3.9.7"
  }
 },
 "nbformat": 4,
 "nbformat_minor": 5
}
