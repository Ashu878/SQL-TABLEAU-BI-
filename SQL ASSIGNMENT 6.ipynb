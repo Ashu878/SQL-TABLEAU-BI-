{
 "cells": [
  {
   "cell_type": "code",
   "execution_count": 1,
   "id": "9764c614",
   "metadata": {},
   "outputs": [],
   "source": [
    "import mysql.connector as dd"
   ]
  },
  {
   "cell_type": "code",
   "execution_count": 2,
   "id": "8bba45c1",
   "metadata": {},
   "outputs": [],
   "source": [
    "mydb = dd.connect(host = 'localhost', user = 'root', passwd = 'admin')"
   ]
  },
  {
   "cell_type": "code",
   "execution_count": 3,
   "id": "4b88f517",
   "metadata": {},
   "outputs": [],
   "source": [
    "cursor = mydb.cursor()"
   ]
  },
  {
   "cell_type": "code",
   "execution_count": 4,
   "id": "4477bc8e",
   "metadata": {},
   "outputs": [],
   "source": [
    "cursor.execute('SHOW DATABASES')"
   ]
  },
  {
   "cell_type": "code",
   "execution_count": 5,
   "id": "513bcf67",
   "metadata": {},
   "outputs": [
    {
     "data": {
      "text/plain": [
       "[('information_schema',),\n",
       " ('main',),\n",
       " ('mysql',),\n",
       " ('performance_schema',),\n",
       " ('sys',)]"
      ]
     },
     "execution_count": 5,
     "metadata": {},
     "output_type": "execute_result"
    }
   ],
   "source": [
    "cursor.fetchall()"
   ]
  },
  {
   "cell_type": "code",
   "execution_count": 7,
   "id": "b4c11258",
   "metadata": {},
   "outputs": [],
   "source": [
    "cursor.execute('CREATE DATABASE Employee')"
   ]
  },
  {
   "cell_type": "code",
   "execution_count": 8,
   "id": "547707d4",
   "metadata": {},
   "outputs": [],
   "source": [
    "cursor.execute('SHOW DATABASES')"
   ]
  },
  {
   "cell_type": "code",
   "execution_count": 12,
   "id": "9d9aecc5",
   "metadata": {},
   "outputs": [],
   "source": [
    "cursor.execute('USE Employee')"
   ]
  },
  {
   "cell_type": "code",
   "execution_count": 21,
   "id": "03877954",
   "metadata": {},
   "outputs": [],
   "source": [
    "cursor.execute(\"CREATE TABLE emp_data (emp_id INT, NAME VARCHAR(30),SALARY INT(30),PRIMARY KEY(emp_id))\")"
   ]
  },
  {
   "cell_type": "code",
   "execution_count": 30,
   "id": "a990840d",
   "metadata": {},
   "outputs": [],
   "source": [
    "cursor.execute(\"INSERT INTO emp_data VALUES (102,'ZAZA',10000,'2011-02-11')\")"
   ]
  },
  {
   "cell_type": "code",
   "execution_count": 31,
   "id": "f93ac967",
   "metadata": {},
   "outputs": [],
   "source": [
    "cursor.execute(\"INSERT INTO emp_data VALUES (103,'Akin',20,'2022-09-31')\")"
   ]
  },
  {
   "cell_type": "code",
   "execution_count": 33,
   "id": "be0e519b",
   "metadata": {},
   "outputs": [],
   "source": [
    "cursor.execute(\"INSERT INTO emp_data VALUES (104,'ZAZA',10000,'2014-02-12')\")"
   ]
  },
  {
   "cell_type": "code",
   "execution_count": 34,
   "id": "97370bd9",
   "metadata": {},
   "outputs": [],
   "source": [
    "cursor.execute(\"SELECT * FROM emp_data\")"
   ]
  },
  {
   "cell_type": "code",
   "execution_count": 36,
   "id": "fbec449b",
   "metadata": {},
   "outputs": [],
   "source": [
    "cursor.execute(\"DESC emp_data\")"
   ]
  },
  {
   "cell_type": "code",
   "execution_count": 37,
   "id": "a0f05f7b",
   "metadata": {},
   "outputs": [
    {
     "data": {
      "text/plain": [
       "[('emp_id', b'int', 'NO', 'PRI', None, ''),\n",
       " ('NAME', b'varchar(30)', 'YES', '', None, ''),\n",
       " ('SALARY', b'int', 'YES', '', None, ''),\n",
       " ('joining_date', b'varchar(40)', 'YES', '', None, '')]"
      ]
     },
     "execution_count": 37,
     "metadata": {},
     "output_type": "execute_result"
    }
   ],
   "source": [
    "cursor.fetchall()"
   ]
  },
  {
   "cell_type": "code",
   "execution_count": null,
   "id": "c29cd2aa",
   "metadata": {},
   "outputs": [],
   "source": []
  },
  {
   "cell_type": "markdown",
   "id": "3155e7e3",
   "metadata": {},
   "source": [
    "## Q-1. Write an SQL query to print details of the Workers who have joined in Feb’2014."
   ]
  },
  {
   "cell_type": "code",
   "execution_count": 58,
   "id": "a3b35915",
   "metadata": {},
   "outputs": [],
   "source": [
    "cursor.execute(\"SELECT * FROM emp_data WHERE joining_date >= '2014-02-01' AND joining_date  <= '2014-02-28'\")"
   ]
  },
  {
   "cell_type": "code",
   "execution_count": 59,
   "id": "6536b43a",
   "metadata": {},
   "outputs": [
    {
     "data": {
      "text/plain": [
       "[(104, 'ZAZA', 10000, '2014-02-12')]"
      ]
     },
     "execution_count": 59,
     "metadata": {},
     "output_type": "execute_result"
    }
   ],
   "source": [
    "cursor.fetchall()"
   ]
  },
  {
   "cell_type": "markdown",
   "id": "1009371e",
   "metadata": {},
   "source": [
    "## Q-2. Write an SQL query to fetch duplicate records having matching data in some fields of a table"
   ]
  },
  {
   "cell_type": "code",
   "execution_count": 60,
   "id": "3ea18fe0",
   "metadata": {},
   "outputs": [],
   "source": [
    "#adding duplicate values to existing table "
   ]
  },
  {
   "cell_type": "code",
   "execution_count": 61,
   "id": "260a9c1d",
   "metadata": {},
   "outputs": [],
   "source": [
    "cursor.execute(\"SELECT * FROM emp_data\")"
   ]
  },
  {
   "cell_type": "code",
   "execution_count": 65,
   "id": "2fe9ce40",
   "metadata": {},
   "outputs": [],
   "source": [
    "cursor.execute(\"INSERT INTO emp_data VALUES (105, 'ZAZA', 10000, '2014-02-12')\")"
   ]
  },
  {
   "cell_type": "code",
   "execution_count": 62,
   "id": "02ba8b40",
   "metadata": {},
   "outputs": [
    {
     "data": {
      "text/plain": [
       "[(101, 'ZEKE', 10000, '2014-03-22'),\n",
       " (102, 'ZAZA', 10000, '2011-02-11'),\n",
       " (103, 'Akin', 20, '2022-09-31'),\n",
       " (104, 'ZAZA', 10000, '2014-02-12')]"
      ]
     },
     "execution_count": 62,
     "metadata": {},
     "output_type": "execute_result"
    }
   ],
   "source": [
    "cursor.fetchall()"
   ]
  },
  {
   "cell_type": "markdown",
   "id": "5f723360",
   "metadata": {},
   "source": [
    "# Q-2. Write an SQL query to fetch duplicate records having matching data in some fields of a table."
   ]
  },
  {
   "cell_type": "code",
   "execution_count": 66,
   "id": "c4a7fa0b",
   "metadata": {},
   "outputs": [],
   "source": [
    "cursor.execute('SELECT * FROM emp_data GROUP BY NAME,SALARY HAVING COUNT(*)>1')"
   ]
  },
  {
   "cell_type": "code",
   "execution_count": 67,
   "id": "f495e34f",
   "metadata": {},
   "outputs": [
    {
     "data": {
      "text/plain": [
       "[(102, 'ZAZA', 10000, '2011-02-11')]"
      ]
     },
     "execution_count": 67,
     "metadata": {},
     "output_type": "execute_result"
    }
   ],
   "source": [
    "cursor.fetchall()"
   ]
  },
  {
   "cell_type": "code",
   "execution_count": 68,
   "id": "6c99b23e",
   "metadata": {},
   "outputs": [],
   "source": [
    "#Duplicate record above based on two columns"
   ]
  },
  {
   "cell_type": "markdown",
   "id": "1aa1bd70",
   "metadata": {},
   "source": [
    "# Q-3. How to remove duplicate rows from Employees table."
   ]
  },
  {
   "cell_type": "code",
   "execution_count": 75,
   "id": "45858320",
   "metadata": {},
   "outputs": [],
   "source": [
    "cursor.execute(\"DELETE e1 FROM emp_data e1,emp_data e2 WHERE e1.NAME = e2.NAME AND e1.emp_id >e2.emp_id \")"
   ]
  },
  {
   "cell_type": "code",
   "execution_count": 77,
   "id": "dd5db41a",
   "metadata": {},
   "outputs": [],
   "source": [
    "cursor.execute(\"SELECT * FROM emp_data\")"
   ]
  },
  {
   "cell_type": "code",
   "execution_count": 78,
   "id": "c4fa8df0",
   "metadata": {},
   "outputs": [
    {
     "data": {
      "text/plain": [
       "[(101, 'ZEKE', 10000, '2014-03-22'),\n",
       " (102, 'ZAZA', 10000, '2011-02-11'),\n",
       " (103, 'Akin', 20, '2022-09-31')]"
      ]
     },
     "execution_count": 78,
     "metadata": {},
     "output_type": "execute_result"
    }
   ],
   "source": [
    "cursor.fetchall()"
   ]
  },
  {
   "cell_type": "code",
   "execution_count": null,
   "id": "1ebfd14f",
   "metadata": {},
   "outputs": [],
   "source": []
  }
 ],
 "metadata": {
  "kernelspec": {
   "display_name": "Python 3 (ipykernel)",
   "language": "python",
   "name": "python3"
  },
  "language_info": {
   "codemirror_mode": {
    "name": "ipython",
    "version": 3
   },
   "file_extension": ".py",
   "mimetype": "text/x-python",
   "name": "python",
   "nbconvert_exporter": "python",
   "pygments_lexer": "ipython3",
   "version": "3.9.7"
  }
 },
 "nbformat": 4,
 "nbformat_minor": 5
}
